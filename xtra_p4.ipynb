{
 "cells": [
  {
   "attachments": {},
   "cell_type": "markdown",
   "metadata": {},
   "source": [
    "# Tim Gormly \n",
    "## Module 4, Optional Task\n",
    "### 2/6/2023\n",
    "<p>In this notebook, we will make a use a script that cleans phone number data in a pandas DataFrame so that it is all formated in the same 555-555-5555 fashion</p>"
   ]
  },
  {
   "cell_type": "code",
   "execution_count": 12,
   "metadata": {},
   "outputs": [
    {
     "name": "stdout",
     "output_type": "stream",
     "text": [
      "formatted_phone =\n",
      "0    555-555-5555\n",
      "1    555-555-1234\n",
      "Name: Phone, dtype: object\n"
     ]
    }
   ],
   "source": [
    "import pandas as pd\n",
    "import re\n",
    "\n",
    "# create 2D list\n",
    "contacts = [['Mike Green', 'demo1@deitel.com', '5555555555'],\n",
    "            ['Sue Brown', 'demo2@deitel.com', '5555551234']]\n",
    "\n",
    "# create Pandas DataFrame using 2D List and custom column names\n",
    "contactsdf = pd.DataFrame(contacts, columns=['Name', 'Email', 'Phone'])\n",
    "                          \n",
    "def get_formatted_phone(value):\n",
    "    '''This method receives a value and uses a regular expression to check if the value contains 10 consecutive digits.  If it does, the function assigns substrings of the value to a variable called result\n",
    "    \n",
    "    If there was not a match in the regular expression, the value is returned by the function, unchanged.\n",
    "    \n",
    "    If there was a match, the variable result will evaluate to True, and the phone number will be returned with a \"-\" joined between each substring created by the regular expression'''\n",
    "    result = re.fullmatch(r'(\\d{3})(\\d{3})(\\d{4})', value)\n",
    "\n",
    "    return '-'.join(result.groups()) if result else value\n",
    "\n",
    "# use map function to apply get_formatted_phone to the values contained in contactsdf:\n",
    "\n",
    "formatted_phone = contactsdf['Phone'].map(get_formatted_phone)\n",
    "\n",
    "print(f\"formatted_phone =\\n{formatted_phone}\")"
   ]
  }
 ],
 "metadata": {
  "kernelspec": {
   "display_name": "base",
   "language": "python",
   "name": "python3"
  },
  "language_info": {
   "codemirror_mode": {
    "name": "ipython",
    "version": 3
   },
   "file_extension": ".py",
   "mimetype": "text/x-python",
   "name": "python",
   "nbconvert_exporter": "python",
   "pygments_lexer": "ipython3",
   "version": "3.10.8"
  },
  "orig_nbformat": 4,
  "vscode": {
   "interpreter": {
    "hash": "67bfac4f4aefe1c16f1836a62d55b6e6baa7aba1ac5ce70e93ee8e90eb4f073a"
   }
  }
 },
 "nbformat": 4,
 "nbformat_minor": 2
}
