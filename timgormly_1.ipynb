{
 "cells": [
  {
   "attachments": {},
   "cell_type": "markdown",
   "metadata": {},
   "source": [
    "# Tim Gormly - Module 4 Project, Task 1"
   ]
  },
  {
   "attachments": {},
   "cell_type": "markdown",
   "metadata": {},
   "source": [
    "## Task 1 - Series"
   ]
  },
  {
   "cell_type": "code",
   "execution_count": 1,
   "metadata": {},
   "outputs": [
    {
     "name": "stdout",
     "output_type": "stream",
     "text": [
      "You can pass an iterable to the pandas.Series() method to create a pandas Series, a one dimensional array\n",
      "\n",
      "For example:\n",
      "grades = pd.Series([87, 100, 94, 88, 72, 50, 25, 88])\n",
      "\n",
      "Once the Series is created, we can access its information as follows:\n",
      "grades[0] = 87\n",
      "\n",
      "grades.count() = 8\n",
      "\n",
      "grades.mean() = 75.5\n",
      "\n",
      "grades.min() = 25\n",
      "\n",
      "grades.max() = 100\n",
      "\n",
      "grades.std() = 25.63479777846623\n",
      "\n",
      "grades.describe():\n",
      "\n",
      "count      8.000000\n",
      "mean      75.500000\n",
      "std       25.634798\n",
      "min       25.000000\n",
      "25%       66.500000\n",
      "50%       87.500000\n",
      "75%       89.500000\n",
      "max      100.000000\n",
      "dtype: float64\n"
     ]
    }
   ],
   "source": [
    "print(\"You can pass an iterable to the pandas.Series() method to create a pandas Series, a one dimensional array\\n\")\n",
    "\n",
    "print(f\"For example:\\ngrades = pd.Series([87, 100, 94, 88, 72, 50, 25, 88])\\n\")\n",
    "\n",
    "import pandas as pd\n",
    "\n",
    "\n",
    "grades = pd.Series([87, 100, 94, 88, 72, 50, 25, 88])\n",
    "\n",
    "print(\"Once the Series is created, we can access its information as follows:\")\n",
    "\n",
    "print(f\"{grades[0] = }\\n\")\n",
    "print(f\"{grades.count() = }\\n\")\n",
    "print(f\"{grades.mean() = }\\n\") # are these coming from the statistics module?\n",
    "print(f\"{grades.min() = }\\n\")\n",
    "print(f\"{grades.max() = }\\n\")\n",
    "print(f\"{grades.std() = }\\n\")\n",
    "print(f\"grades.describe():\\n\\n{grades.describe()}\")"
   ]
  },
  {
   "attachments": {},
   "cell_type": "markdown",
   "metadata": {},
   "source": [
    "## Task 2 - Series from Dictionary"
   ]
  },
  {
   "cell_type": "code",
   "execution_count": 2,
   "metadata": {},
   "outputs": [
    {
     "name": "stdout",
     "output_type": "stream",
     "text": [
      "A Series can be created using a Dictionary Comprehention, as in:\n",
      "\n",
      "grades.pd.Series({key:value, key:value, etc..})\n",
      "\n",
      "For example:\n",
      "grades = pd.Series({'Wally': 87, 'Eva': 100, 'Sam': 94})\n",
      "\n",
      "We can then access data inside this series like so:\n",
      "grades['Eva'] = 100\n",
      "\n",
      "grades.Wally = 87\n",
      "\n",
      "grades.values = array([ 87, 100,  94], dtype=int64)\n",
      "\n"
     ]
    }
   ],
   "source": [
    "import pandas as pd\n",
    "\n",
    "print(\"A Series can be created using a Dictionary Comprehention, as in:\\n\")\n",
    "print(\"grades.pd.Series({key:value, key:value, etc..})\\n\")\n",
    "\n",
    "print(\"For example:\")\n",
    "print(\"grades = pd.Series({'Wally': 87, 'Eva': 100, 'Sam': 94})\\n\")\n",
    "\n",
    "grades = pd.Series({\n",
    "    'Wally': 87,\n",
    "    'Eva': 100,\n",
    "    'Sam': 94\n",
    "})\n",
    "\n",
    "print(\"We can then access data inside this series like so:\")\n",
    "print(f\"{grades['Eva'] = }\\n\")\n",
    "print(f\"{grades.Wally = }\\n\")\n",
    "print(f\"{grades.values = }\\n\")"
   ]
  },
  {
   "attachments": {},
   "cell_type": "markdown",
   "metadata": {},
   "source": [
    "### Page 266 Self-Check"
   ]
  },
  {
   "cell_type": "code",
   "execution_count": 3,
   "metadata": {},
   "outputs": [
    {
     "name": "stdout",
     "output_type": "stream",
     "text": [
      "This Series was created from passing a NumPy ndarray as a parameter to the pd.Series() function.\n",
      "We can access it's information as follows:\n",
      "\n",
      "temperatures =\n",
      "0    87\n",
      "1    69\n",
      "2    72\n",
      "3    82\n",
      "4    81\n",
      "5    80\n",
      "dtype: int32\n",
      "\n",
      "temperatures.count() = 6\n",
      "\n",
      "temperatures.min() = 69\n",
      "\n",
      "temperatures.max() = 87\n",
      "\n",
      "temperatures.mean() = 78.5\n",
      "\n",
      "temperatures.std() = 6.715653356152326\n",
      "\n",
      "temperatures.describe() =\n",
      "count     6.000000\n",
      "mean     78.500000\n",
      "std       6.715653\n",
      "min      69.000000\n",
      "25%      74.000000\n",
      "50%      80.500000\n",
      "75%      81.750000\n",
      "max      87.000000\n",
      "dtype: float64\n"
     ]
    }
   ],
   "source": [
    "import numpy as np\n",
    "import pandas as pd\n",
    "\n",
    "#create numpy ndarray from random numbers\n",
    "temps = np.random.randint(60, 101, 6)\n",
    "\n",
    "#create pandas Series from ndarray using pd.Series()\n",
    "temperatures = pd.Series(temps)\n",
    "\n",
    "print(\"This Series was created from passing a NumPy ndarray as a parameter to the pd.Series() function.\")\n",
    "print(\"We can access it's information as follows:\\n\")\n",
    "\n",
    "print(f\"temperatures =\\n{temperatures}\\n\")\n",
    "print(f\"{temperatures.count() = }\\n\")\n",
    "print(f\"{temperatures.min() = }\\n\")\n",
    "print(f\"{temperatures.max() = }\\n\")\n",
    "print(f\"{temperatures.mean() = }\\n\")\n",
    "print(f\"{temperatures.std() = }\\n\")\n",
    "print(f\"temperatures.describe() =\\n{temperatures.describe()}\")\n"
   ]
  }
 ],
 "metadata": {
  "kernelspec": {
   "display_name": "base",
   "language": "python",
   "name": "python3"
  },
  "language_info": {
   "codemirror_mode": {
    "name": "ipython",
    "version": 3
   },
   "file_extension": ".py",
   "mimetype": "text/x-python",
   "name": "python",
   "nbconvert_exporter": "python",
   "pygments_lexer": "ipython3",
   "version": "3.10.8"
  },
  "orig_nbformat": 4,
  "vscode": {
   "interpreter": {
    "hash": "67bfac4f4aefe1c16f1836a62d55b6e6baa7aba1ac5ce70e93ee8e90eb4f073a"
   }
  }
 },
 "nbformat": 4,
 "nbformat_minor": 2
}
