{
 "cells": [
  {
   "attachments": {},
   "cell_type": "markdown",
   "metadata": {},
   "source": [
    "# Tim Gormly - Module 4 Project, Task 2"
   ]
  },
  {
   "attachments": {},
   "cell_type": "markdown",
   "metadata": {},
   "source": [
    "## Task 1. Create DataFrame"
   ]
  },
  {
   "cell_type": "code",
   "execution_count": 101,
   "metadata": {},
   "outputs": [
    {
     "data": {
      "text/html": [
       "<div>\n",
       "<style scoped>\n",
       "    .dataframe tbody tr th:only-of-type {\n",
       "        vertical-align: middle;\n",
       "    }\n",
       "\n",
       "    .dataframe tbody tr th {\n",
       "        vertical-align: top;\n",
       "    }\n",
       "\n",
       "    .dataframe thead th {\n",
       "        text-align: right;\n",
       "    }\n",
       "</style>\n",
       "<table border=\"1\" class=\"dataframe\">\n",
       "  <thead>\n",
       "    <tr style=\"text-align: right;\">\n",
       "      <th></th>\n",
       "      <th>Wally</th>\n",
       "      <th>Eva</th>\n",
       "      <th>Sam</th>\n",
       "      <th>Katie</th>\n",
       "      <th>Bob</th>\n",
       "    </tr>\n",
       "  </thead>\n",
       "  <tbody>\n",
       "    <tr>\n",
       "      <th>0</th>\n",
       "      <td>87</td>\n",
       "      <td>100</td>\n",
       "      <td>94</td>\n",
       "      <td>100</td>\n",
       "      <td>83</td>\n",
       "    </tr>\n",
       "    <tr>\n",
       "      <th>1</th>\n",
       "      <td>96</td>\n",
       "      <td>87</td>\n",
       "      <td>77</td>\n",
       "      <td>81</td>\n",
       "      <td>65</td>\n",
       "    </tr>\n",
       "    <tr>\n",
       "      <th>2</th>\n",
       "      <td>70</td>\n",
       "      <td>90</td>\n",
       "      <td>90</td>\n",
       "      <td>90</td>\n",
       "      <td>85</td>\n",
       "    </tr>\n",
       "  </tbody>\n",
       "</table>\n",
       "</div>"
      ],
      "text/plain": [
       "   Wally  Eva  Sam  Katie  Bob\n",
       "0     87  100   94    100   83\n",
       "1     96   87   77     81   65\n",
       "2     70   90   90     90   85"
      ]
     },
     "execution_count": 101,
     "metadata": {},
     "output_type": "execute_result"
    }
   ],
   "source": [
    "import pandas as pd\n",
    "\n",
    "grades_dict = {'Wally': [87, 96, 70],\n",
    "               'Eva': [100, 87, 90],\n",
    "               'Sam': [94, 77, 90],\n",
    "               'Katie': [100, 81, 90],\n",
    "               'Bob': [83, 65, 85]}\n",
    "\n",
    "grades = pd.DataFrame(grades_dict)\n",
    "\n",
    "grades"
   ]
  },
  {
   "attachments": {},
   "cell_type": "markdown",
   "metadata": {},
   "source": [
    "## Task 2. Custom Index"
   ]
  },
  {
   "cell_type": "code",
   "execution_count": 102,
   "metadata": {},
   "outputs": [
    {
     "name": "stdout",
     "output_type": "stream",
     "text": [
      "We can run grades.index = ['Test1', 'Test2', 'Test3'] to create custom indexes instead of the default counter\n",
      "\n",
      "After this change, grades becomes:\n",
      "\n",
      "       Wally  Eva  Sam  Katie  Bob\n",
      "Test1     87  100   94    100   83\n",
      "Test2     96   87   77     81   65\n",
      "Test3     70   90   90     90   85\n",
      "\n",
      "We can pull Eva's grades using grades['Eva']:  \n",
      "\n",
      "Test1    100\n",
      "Test2     87\n",
      "Test3     90\n",
      "Name: Eva, dtype: int64\n",
      "\n",
      "We can pull Sam's grades using grades.Sam:  \n",
      "\n",
      "Test1    94\n",
      "Test2    77\n",
      "Test3    90\n",
      "Name: Sam, dtype: int64\n"
     ]
    }
   ],
   "source": [
    "print(f\"We can run grades.index = ['Test1', 'Test2', 'Test3'] to create custom indexes instead of the default counter\")\n",
    "\n",
    "grades.index = ['Test1', 'Test2', 'Test3']\n",
    "\n",
    "print(f\"\\nAfter this change, grades becomes:\\n\\n{grades}\")\n",
    "\n",
    "print(f\"\\nWe can pull Eva's grades using grades['Eva']:  \\n\\n{grades['Eva']}\")\n",
    "print(f\"\\nWe can pull Sam's grades using grades.Sam:  \\n\\n{grades.Sam}\")\n",
    "\n"
   ]
  },
  {
   "attachments": {},
   "cell_type": "markdown",
   "metadata": {},
   "source": [
    "## Task 3. Accessing Rows (loc, iloc)"
   ]
  },
  {
   "cell_type": "code",
   "execution_count": 103,
   "metadata": {},
   "outputs": [
    {
     "name": "stdout",
     "output_type": "stream",
     "text": [
      "It is better to use loc, iloc, at, and iat as opposed to traditional indexing\n",
      "\n",
      "We can access a row using grades.loc['Test1']:\n",
      "\n",
      "Wally     87\n",
      "Eva      100\n",
      "Sam       94\n",
      "Katie    100\n",
      "Bob       83\n",
      "Name: Test1, dtype: int64\n",
      "\n",
      "We can also access a row using grades.iloc[0]:\n",
      "\n",
      "Wally     87\n",
      "Eva      100\n",
      "Sam       94\n",
      "Katie    100\n",
      "Bob       83\n",
      "Name: Test1, dtype: int64\n",
      "\n",
      "I find loc to be more descriptive.  I think that the purpose of code written with loc would be easier to understand at a glance\n",
      "\n",
      "We can also access a slice of rows using grades.iloc[0:2]:\n",
      "\n",
      "       Wally  Eva  Sam  Katie  Bob\n",
      "Test1     87  100   94    100   83\n",
      "Test2     96   87   77     81   65\n",
      "\n",
      "Note that the values provided in the parameters for the slice are inclusive\n"
     ]
    }
   ],
   "source": [
    "print(\"It is better to use loc, iloc, at, and iat as opposed to traditional indexing\")\n",
    "\n",
    "print(f\"\\nWe can access a row using grades.loc['Test1']:\\n\\n{grades.loc['Test1']}\")\n",
    "\n",
    "print(f\"\\nWe can also access a row using grades.iloc[0]:\\n\\n{grades.iloc[0]}\")\n",
    "\n",
    "print(\"\\nI find loc to be more descriptive.  I think that the purpose of code written with loc would be easier to understand at a glance\")\n",
    "\n",
    "print(f\"\\nWe can also access a slice of rows using grades.iloc[0:2]:\\n\\n{grades.iloc[0:2]}\")\n",
    "print(\"\\nNote that the values provided in the parameters for the slice are inclusive\")"
   ]
  },
  {
   "attachments": {},
   "cell_type": "markdown",
   "metadata": {},
   "source": [
    "## Task 3. Accessing Subsets (at, iat)"
   ]
  },
  {
   "cell_type": "code",
   "execution_count": 104,
   "metadata": {},
   "outputs": [
    {
     "name": "stdout",
     "output_type": "stream",
     "text": [
      "We can access specific cells in a DataFrame using at and iat.  These work in a similar manner to loc and iloc.\n",
      "Eva's score on Test 2 can be accessed using grades.at['Test2', 'Eva']:\n",
      "\n",
      "grades.at['Test2', 'Eva'] = 87\n",
      "\n",
      "We can find the score on the grade the first student received on the third exam using grades.iat[2,0]\n",
      "\n",
      "grades.iat[2,0] = 70\n"
     ]
    }
   ],
   "source": [
    "print(\"We can access specific cells in a DataFrame using at and iat.  These work in a similar manner to loc and iloc.\")\n",
    "\n",
    "print(\"Eva's score on Test 2 can be accessed using grades.at['Test2', 'Eva']:\\n\")\n",
    "\n",
    "print(f\"{grades.at['Test2', 'Eva'] = }\\n\")\n",
    "\n",
    "print(\"We can find the score on the grade the first student received on the third exam using grades.iat[2,0]\\n\")\n",
    "\n",
    "print(f\"{grades.iat[2,0] = }\")"
   ]
  },
  {
   "attachments": {},
   "cell_type": "markdown",
   "metadata": {},
   "source": [
    "## Task 4. Describe (By Column)"
   ]
  },
  {
   "cell_type": "code",
   "execution_count": 105,
   "metadata": {},
   "outputs": [
    {
     "name": "stdout",
     "output_type": "stream",
     "text": [
      "grades.describe() can be used to get descriptive statistics for your Data Frame\n",
      "\n",
      "grades.describe() returns\n",
      "\n",
      "       Wally     Eva    Sam   Katie    Bob\n",
      "count   3.00    3.00   3.00    3.00   3.00\n",
      "mean   84.33   92.33  87.00   90.33  77.67\n",
      "std    13.20    6.81   8.89    9.50  11.02\n",
      "min    70.00   87.00  77.00   81.00  65.00\n",
      "25%    78.50   88.50  83.50   85.50  74.00\n",
      "50%    87.00   90.00  90.00   90.00  83.00\n",
      "75%    91.50   95.00  92.00   95.00  84.00\n",
      "max    96.00  100.00  94.00  100.00  85.00\n",
      "\n",
      "We can adjust the precision of our results using pd.set_option(\"display.precision\", 2)\n",
      "\n",
      "Now when we call grades.describe(), we receive:\n",
      "\n",
      "       Wally     Eva    Sam   Katie    Bob\n",
      "count   3.00    3.00   3.00    3.00   3.00\n",
      "mean   84.33   92.33  87.00   90.33  77.67\n",
      "std    13.20    6.81   8.89    9.50  11.02\n",
      "min    70.00   87.00  77.00   81.00  65.00\n",
      "25%    78.50   88.50  83.50   85.50  74.00\n",
      "50%    87.00   90.00  90.00   90.00  83.00\n",
      "75%    91.50   95.00  92.00   95.00  84.00\n",
      "max    96.00  100.00  94.00  100.00  85.00\n"
     ]
    }
   ],
   "source": [
    "print(\"grades.describe() can be used to get descriptive statistics for your Data Frame\\n\")\n",
    "\n",
    "print(f\"grades.describe() returns\\n\\n{grades.describe()}\\n\")\n",
    "\n",
    "print('We can adjust the precision of our results using pd.set_option(\"display.precision\", 2)\\n')\n",
    "\n",
    "pd.set_option(\"display.precision\", 2)\n",
    "\n",
    "print(\"Now when we call grades.describe(), we receive:\\n\")\n",
    "\n",
    "print(grades.describe())"
   ]
  },
  {
   "attachments": {},
   "cell_type": "markdown",
   "metadata": {},
   "source": [
    "## Task 5. Transpose (rows <--> columns)"
   ]
  },
  {
   "cell_type": "code",
   "execution_count": 106,
   "metadata": {},
   "outputs": [
    {
     "name": "stdout",
     "output_type": "stream",
     "text": [
      "We can find the average for each column by calling grades.mean():\n",
      "\n",
      "grades.mean():\n",
      "\n",
      "Wally    84.33\n",
      "Eva      92.33\n",
      "Sam      87.00\n",
      "Katie    90.33\n",
      "Bob      77.67\n",
      "dtype: float64\n",
      "\n",
      "We can call upon columns instead of rows using the T attribute, as in grades.T.describe()\n",
      "\n",
      "grades.T.describe():\n",
      "\n",
      "       Wally     Eva    Sam   Katie    Bob\n",
      "count   3.00    3.00   3.00    3.00   3.00\n",
      "mean   84.33   92.33  87.00   90.33  77.67\n",
      "std    13.20    6.81   8.89    9.50  11.02\n",
      "min    70.00   87.00  77.00   81.00  65.00\n",
      "25%    78.50   88.50  83.50   85.50  74.00\n",
      "50%    87.00   90.00  90.00   90.00  83.00\n",
      "75%    91.50   95.00  92.00   95.00  84.00\n",
      "max    96.00  100.00  94.00  100.00  85.00\n",
      "\n",
      "grades.T.mean():\n",
      "\n",
      "Wally    84.33\n",
      "Eva      92.33\n",
      "Sam      87.00\n",
      "Katie    90.33\n",
      "Bob      77.67\n",
      "dtype: float64\n",
      "\n",
      "grades.T.std():\n",
      "\n",
      "Wally    13.20\n",
      "Eva       6.81\n",
      "Sam       8.89\n",
      "Katie     9.50\n",
      "Bob      11.02\n",
      "dtype: float64\n",
      "\n"
     ]
    }
   ],
   "source": [
    "print(\"We can find the average for each column by calling grades.mean():\\n\")\n",
    "\n",
    "print(f\"grades.mean():\\n\\n{grades.mean()}\\n\")\n",
    "\n",
    "\n",
    "print(\"We can call upon columns instead of rows using the T attribute, as in grades.T.describe()\\n\")\n",
    "\n",
    "print(f\"grades.T.describe():\\n\\n{grades.describe()}\\n\")\n",
    "print(f\"grades.T.mean():\\n\\n{grades.mean()}\\n\")\n",
    "print(f\"grades.T.std():\\n\\n{grades.std()}\\n\")"
   ]
  },
  {
   "attachments": {},
   "cell_type": "markdown",
   "metadata": {},
   "source": [
    "## Task 6. Sort"
   ]
  },
  {
   "cell_type": "code",
   "execution_count": 107,
   "metadata": {},
   "outputs": [
    {
     "name": "stdout",
     "output_type": "stream",
     "text": [
      "A DataFrame can be sorted using the .sort_index attribute\n",
      "\n",
      "For example, grades.sort_index(ascending = False) creates the following change:\n",
      "\n",
      "grades:\n",
      "\n",
      "       Wally  Eva  Sam  Katie  Bob\n",
      "Test1     87  100   94    100   83\n",
      "Test2     96   87   77     81   65\n",
      "Test3     70   90   90     90   85\n",
      "\n",
      "grades.sort_index(ascending = False):\n",
      "\n",
      "       Wally  Eva  Sam  Katie  Bob\n",
      "Test3     70   90   90     90   85\n",
      "Test2     96   87   77     81   65\n",
      "Test1     87  100   94    100   83\n",
      "The rows have been displayed in reverse order, with the most recent exam scores being the first results.\n",
      "\n",
      "We can alphabetize the columns using grades.sort_index(axis = 1)\n",
      "\n",
      "grades:\n",
      "\n",
      "       Wally  Eva  Sam  Katie  Bob\n",
      "Test1     87  100   94    100   83\n",
      "Test2     96   87   77     81   65\n",
      "Test3     70   90   90     90   85\n",
      "\n",
      "grades.sort_index(axis = 1):\n",
      "\n",
      "       Bob  Eva  Katie  Sam  Wally\n",
      "Test1   83  100    100   94     87\n",
      "Test2   65   87     81   77     96\n",
      "Test3   85   90     90   90     70\n"
     ]
    },
    {
     "ename": "TypeError",
     "evalue": "map() takes no keyword arguments",
     "output_type": "error",
     "traceback": [
      "\u001b[1;31m---------------------------------------------------------------------------\u001b[0m",
      "\u001b[1;31mTypeError\u001b[0m                                 Traceback (most recent call last)",
      "Cell \u001b[1;32mIn[107], line 18\u001b[0m\n\u001b[0;32m     13\u001b[0m \u001b[39mprint\u001b[39m(\u001b[39mf\u001b[39m\u001b[39m\"\u001b[39m\u001b[39mgrades:\u001b[39m\u001b[39m\\n\u001b[39;00m\u001b[39m\\n\u001b[39;00m\u001b[39m{\u001b[39;00mgrades\u001b[39m}\u001b[39;00m\u001b[39m\\n\u001b[39;00m\u001b[39m\"\u001b[39m)\n\u001b[0;32m     15\u001b[0m \u001b[39mprint\u001b[39m(\u001b[39mf\u001b[39m\u001b[39m\"\u001b[39m\u001b[39mgrades.sort_index(axis = 1):\u001b[39m\u001b[39m\\n\u001b[39;00m\u001b[39m\\n\u001b[39;00m\u001b[39m{\u001b[39;00mgrades\u001b[39m.\u001b[39msort_index(axis \u001b[39m=\u001b[39m \u001b[39m1\u001b[39m)\u001b[39m}\u001b[39;00m\u001b[39m\"\u001b[39m)\n\u001b[1;32m---> 18\u001b[0m \u001b[39mmap\u001b[39;49m(grades, x \u001b[39m=\u001b[39;49m \u001b[39m1\u001b[39;49m)\n",
      "\u001b[1;31mTypeError\u001b[0m: map() takes no keyword arguments"
     ]
    }
   ],
   "source": [
    "print(\"A DataFrame can be sorted using the .sort_index attribute\\n\")\n",
    "\n",
    "print(\"For example, grades.sort_index(ascending = False) creates the following change:\\n\")\n",
    "\n",
    "print(f\"grades:\\n\\n{grades}\\n\")\n",
    "\n",
    "print(f\"grades.sort_index(ascending = False):\\n\\n{grades.sort_index(ascending = False)}\")\n",
    "\n",
    "print(\"The rows have been displayed in reverse order, with the most recent exam scores being the first results.\\n\")\n",
    "\n",
    "print(\"We can alphabetize the columns using grades.sort_index(axis = 1)\\n\")\n",
    "\n",
    "print(f\"grades:\\n\\n{grades}\\n\")\n",
    "\n",
    "print(f\"grades.sort_index(axis = 1):\\n\\n{grades.sort_index(axis = 1)}\")"
   ]
  }
 ],
 "metadata": {
  "kernelspec": {
   "display_name": "base",
   "language": "python",
   "name": "python3"
  },
  "language_info": {
   "codemirror_mode": {
    "name": "ipython",
    "version": 3
   },
   "file_extension": ".py",
   "mimetype": "text/x-python",
   "name": "python",
   "nbconvert_exporter": "python",
   "pygments_lexer": "ipython3",
   "version": "3.10.8"
  },
  "orig_nbformat": 4,
  "vscode": {
   "interpreter": {
    "hash": "67bfac4f4aefe1c16f1836a62d55b6e6baa7aba1ac5ce70e93ee8e90eb4f073a"
   }
  }
 },
 "nbformat": 4,
 "nbformat_minor": 2
}
